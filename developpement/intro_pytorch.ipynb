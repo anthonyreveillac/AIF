{
 "cells": [
  {
   "cell_type": "markdown",
   "id": "4edc9b8f",
   "metadata": {
    "slideshow": {
     "slide_type": "slide"
    }
   },
   "source": [
    "# Introduction to Pytorch\n",
    "![](../docs/img/pytorch.png)\n",
    "PyTorch is an open source Python machine learning library based on Torch developed by Facebook. \n",
    "It is an optimized tensor library for deep learning using GPUs and CPUs.\n",
    "Pytorch also provides automatic differentiation tools and a neural networks library deeply integrated with Autograd which is designed for maximum flexibility.\n",
    "Many tools allowing, among other things, optimized data loading and neural network optimization are also included in the library, thus facilitating prototyping and training."
   ]
  },
  {
   "cell_type": "markdown",
   "id": "594cfc1a",
   "metadata": {
    "slideshow": {
     "slide_type": "slide"
    }
   },
   "source": [
    "## Tensors\n",
    "PyTorch uses its own Tensor library, similar and convertible with NumPy, with strong Graphics processing unit (GPU) support.\n",
    "Tensors are a specialized data structure used to encode the inputs and outputs of a model, as well as the model’s parameters.  \n",
    "The biggest strengths of tensors are the possibility to be run on GPUs and being optimized for automatic differentiation.  "
   ]
  },
  {
   "cell_type": "markdown",
   "id": "cfbacff4",
   "metadata": {
    "slideshow": {
     "slide_type": "slide"
    }
   },
   "source": [
    "Tensors can be initialized in various ways.  \n",
    "The simplest way might be to directly create a tensor from data: "
   ]
  },
  {
   "cell_type": "code",
   "execution_count": 5,
   "id": "079f2ecc",
   "metadata": {
    "slideshow": {
     "slide_type": "-"
    }
   },
   "outputs": [
    {
     "name": "stdout",
     "output_type": "stream",
     "text": [
      "tensor([[1, 2],\n",
      "        [3, 4]])\n"
     ]
    },
    {
     "data": {
      "text/plain": [
       "torch.Size([2, 2])"
      ]
     },
     "execution_count": 5,
     "metadata": {},
     "output_type": "execute_result"
    }
   ],
   "source": [
    "import torch\n",
    "\n",
    "x =  torch.tensor([[1,2], [3,4]])\n",
    "print(x)\n",
    "x.shape"
   ]
  },
  {
   "cell_type": "markdown",
   "id": "4d12cb47",
   "metadata": {
    "slideshow": {
     "slide_type": "slide"
    }
   },
   "source": [
    "You can also used built in operations similar to the one existing in NumPy:"
   ]
  },
  {
   "cell_type": "code",
   "execution_count": 6,
   "id": "abe1da9d",
   "metadata": {
    "slideshow": {
     "slide_type": "-"
    }
   },
   "outputs": [
    {
     "name": "stdout",
     "output_type": "stream",
     "text": [
      "x_rand:\n",
      "tensor([[0.5876, 0.1292],\n",
      "        [0.4716, 0.2146]])\n",
      "\n",
      "x_ones:\n",
      "tensor([1., 1., 1., 1., 1.])\n",
      "\n",
      "x_zeros:\n",
      "tensor([0., 0., 0., 0., 0.])\n",
      "\n"
     ]
    }
   ],
   "source": [
    "x_rand = torch.rand((2,2))\n",
    "x_ones = torch.ones((5))\n",
    "x_zeros = torch.zeros_like(x_ones)\n",
    "\n",
    "print(f'x_rand:\\n{x_rand}\\n')\n",
    "print(f'x_ones:\\n{x_ones}\\n')\n",
    "print(f'x_zeros:\\n{x_zeros}\\n')"
   ]
  },
  {
   "cell_type": "markdown",
   "id": "066ff292",
   "metadata": {
    "slideshow": {
     "slide_type": "slide"
    }
   },
   "source": [
    "Another way consists in using NumPy arrays:"
   ]
  },
  {
   "cell_type": "code",
   "execution_count": 7,
   "id": "11d689d7",
   "metadata": {
    "slideshow": {
     "slide_type": "-"
    }
   },
   "outputs": [
    {
     "name": "stdout",
     "output_type": "stream",
     "text": [
      "tensor([[1, 2],\n",
      "        [1, 2]])\n"
     ]
    }
   ],
   "source": [
    "import numpy as np\n",
    "x_numpy = np.array([[1,2], [1,2]])\n",
    "x_torch = torch.from_numpy(x_numpy)\n",
    "print(x_torch)"
   ]
  },
  {
   "cell_type": "markdown",
   "id": "a370b07c",
   "metadata": {
    "slideshow": {
     "slide_type": "slide"
    }
   },
   "source": [
    "Be careful, when a Tensor is created from a NumPy array, any operation on one affects the other."
   ]
  },
  {
   "cell_type": "code",
   "execution_count": 32,
   "id": "3a8af1eb",
   "metadata": {
    "slideshow": {
     "slide_type": "-"
    }
   },
   "outputs": [
    {
     "name": "stdout",
     "output_type": "stream",
     "text": [
      "tensor([[10, 20],\n",
      "        [10, 20]])\n"
     ]
    }
   ],
   "source": [
    "x_numpy[0,0] = 10\n",
    "print(x_torch)"
   ]
  },
  {
   "cell_type": "code",
   "execution_count": 9,
   "id": "af13403e",
   "metadata": {
    "slideshow": {
     "slide_type": "-"
    }
   },
   "outputs": [
    {
     "name": "stdout",
     "output_type": "stream",
     "text": [
      "[[100  20]\n",
      " [ 10  20]]\n"
     ]
    }
   ],
   "source": [
    "x_torch *= 10\n",
    "print(x_numpy)"
   ]
  },
  {
   "cell_type": "markdown",
   "id": "62302410",
   "metadata": {
    "slideshow": {
     "slide_type": "-"
    }
   },
   "source": [
    "Every operation you are used to performing in Numpy is available on Pytorch."
   ]
  },
  {
   "cell_type": "markdown",
   "id": "f8cf4275",
   "metadata": {
    "slideshow": {
     "slide_type": "slide"
    }
   },
   "source": [
    "Tensor attributes describe their shape, data type, and the device on which they are stored."
   ]
  },
  {
   "cell_type": "code",
   "execution_count": 10,
   "id": "636baee9",
   "metadata": {
    "slideshow": {
     "slide_type": "-"
    }
   },
   "outputs": [
    {
     "name": "stdout",
     "output_type": "stream",
     "text": [
      "Shape:torch.Size([2, 2])\n",
      "Data type:torch.int64\n",
      "Device:cpu\n"
     ]
    }
   ],
   "source": [
    "print(f'Shape:{x_torch.shape}')\n",
    "print(f'Data type:{x_torch.dtype}')\n",
    "print(f'Device:{x_torch.device}')"
   ]
  },
  {
   "cell_type": "markdown",
   "id": "5ea3717e",
   "metadata": {
    "slideshow": {
     "slide_type": "slide"
    }
   },
   "source": [
    "Among other usages, Tensors are use to store the Data in Pytorch.  \n",
    "Pytorch comes with a number of preloaded datasets as well as tools to efficiently load them into memory on the fly."
   ]
  },
  {
   "cell_type": "code",
   "execution_count": 40,
   "id": "e45e013d",
   "metadata": {
    "slideshow": {
     "slide_type": "-"
    }
   },
   "outputs": [
    {
     "name": "stdout",
     "output_type": "stream",
     "text": [
      "Files already downloaded and verified\n"
     ]
    }
   ],
   "source": [
    "from torchvision import datasets\n",
    "from torchvision.transforms import ToTensor\n",
    "from torch.utils.data import DataLoader\n",
    "\n",
    "data = datasets.CIFAR10(root='./data', download=True, transform=ToTensor())\n",
    "# ToTensor converts a PIL image or NumPy ndarray into a FloatTensor\n",
    "# and scales the image's pixel intensity values in the range [0., 1.]\n",
    "\n",
    "dataloader = DataLoader(data, batch_size=32, shuffle=True, num_workers=4)"
   ]
  },
  {
   "cell_type": "markdown",
   "id": "7f6a1c85",
   "metadata": {
    "slideshow": {
     "slide_type": "slide"
    }
   },
   "source": [
    "Dataloaders are iterables, they don't load the whole dataset in memory but only the minibtachs on which you want to perform operations.  \n",
    "They behave like Iterators in Python."
   ]
  },
  {
   "cell_type": "code",
   "execution_count": 41,
   "id": "d4d4dec3",
   "metadata": {
    "slideshow": {
     "slide_type": "-"
    }
   },
   "outputs": [],
   "source": [
    "X,y= next(iter(dataloader))"
   ]
  },
  {
   "cell_type": "markdown",
   "id": "0264824d",
   "metadata": {
    "slideshow": {
     "slide_type": "slide"
    }
   },
   "source": [
    "Unlike TensorFlow, in Pytorch the axis of the channels is located on the second dimension (the first being always the batch dimension)"
   ]
  },
  {
   "cell_type": "code",
   "execution_count": 43,
   "id": "536d7037",
   "metadata": {
    "slideshow": {
     "slide_type": "-"
    }
   },
   "outputs": [
    {
     "name": "stdout",
     "output_type": "stream",
     "text": [
      "X shape: torch.Size([32, 3, 32, 32])\n",
      "y shape: torch.Size([32])\n"
     ]
    }
   ],
   "source": [
    "import matplotlib.pyplot as plt\n",
    "\n",
    "print(f\"X shape: {X.shape}\")\n",
    "print(f\"y shape: {y.shape}\")"
   ]
  },
  {
   "cell_type": "markdown",
   "id": "4c726519-a7b8-49bf-a082-1ec11f5c804b",
   "metadata": {},
   "source": [
    "Commentaire pour moi : en fait les images de cette base de données sont de taille 32*32 et avec 3 canaux (couleurs) voir\n",
    "https://pytorch.org/tutorials/beginner/blitz/cifar10_tutorial.html"
   ]
  },
  {
   "cell_type": "code",
   "execution_count": 46,
   "id": "ce5de9d0",
   "metadata": {
    "slideshow": {
     "slide_type": "slide"
    }
   },
   "outputs": [],
   "source": [
    "labels_map = {\n",
    "    0: \"airplane\",\n",
    "    1: \"automobile\",\n",
    "    2: \"bird\",\n",
    "    3: \"cat\",\n",
    "    4: \"deer\",\n",
    "    5: \"dog\",\n",
    "    6: \"frog\",\n",
    "    7: \"horse\",\n",
    "    8: \"ship\",\n",
    "    9: \"truck\",\n",
    "}"
   ]
  },
  {
   "cell_type": "code",
   "execution_count": 48,
   "id": "be967348",
   "metadata": {
    "slideshow": {
     "slide_type": "slide"
    }
   },
   "outputs": [
    {
     "data": {
      "image/png": "[encoded data removed]",
      "text/plain": [
       "<Figure size 800x800 with 9 Axes>"
      ]
     },
     "metadata": {},
     "output_type": "display_data"
    }
   ],
   "source": [
    "figure = plt.figure(figsize=(8, 8))\n",
    "cols, rows = 3, 3\n",
    "for i in range(1, cols * rows + 1):\n",
    "    figure.add_subplot(rows, cols, i)\n",
    "    plt.title(labels_map[y[i].item()])\n",
    "    plt.axis(\"off\")\n",
    "    plt.imshow(X[i].permute(1, 2, 0))\n",
    "plt.show()"
   ]
  },
  {
   "cell_type": "markdown",
   "id": "1f45de34",
   "metadata": {
    "slideshow": {
     "slide_type": "slide"
    }
   },
   "source": [
    "## Neural networks in Pytorch"
   ]
  },
  {
   "cell_type": "markdown",
   "id": "e52167a8",
   "metadata": {
    "slideshow": {
     "slide_type": "-"
    }
   },
   "source": [
    "In Pytorch, neural networks extend the ```Module``` class.  \n",
    "To create a neural network we usually create a class that will inherit the ```Module``` class.  \n",
    "It is then necessary to initialize in the ```init``` method all the layers that will be used by the network. \n",
    "Each object of the module class implements the ```forward``` function.  \n",
    "It is this method that will create the graph of operations that will be performed by the network.  \n",
    "It is not necessary to implement a backward method, it will be automatically generated by Pytorch.  \n",
    "\n",
    "In this section we will train a neural network to classify objects from the FashionMNIST dataset"
   ]
  },
  {
   "cell_type": "code",
   "execution_count": 49,
   "id": "05dfb621",
   "metadata": {
    "slideshow": {
     "slide_type": "skip"
    }
   },
   "outputs": [
    {
     "name": "stdout",
     "output_type": "stream",
     "text": [
      "Downloading http://fashion-mnist.s3-website.eu-central-1.amazonaws.com/train-images-idx3-ubyte.gz\n",
      "Downloading http://fashion-mnist.s3-website.eu-central-1.amazonaws.com/train-images-idx3-ubyte.gz to data/FashionMNIST/raw/train-images-idx3-ubyte.gz\n"
     ]
    },
    {
     "name": "stderr",
     "output_type": "stream",
     "text": [
      "100.0%\n"
     ]
    },
    {
     "name": "stdout",
     "output_type": "stream",
     "text": [
      "Extracting data/FashionMNIST/raw/train-images-idx3-ubyte.gz to data/FashionMNIST/raw\n"
     ]
    },
    {
     "name": "stderr",
     "output_type": "stream",
     "text": [
      "100.0%"
     ]
    },
    {
     "name": "stdout",
     "output_type": "stream",
     "text": [
      "\n",
      "Downloading http://fashion-mnist.s3-website.eu-central-1.amazonaws.com/train-labels-idx1-ubyte.gz\n",
      "Downloading http://fashion-mnist.s3-website.eu-central-1.amazonaws.com/train-labels-idx1-ubyte.gz to data/FashionMNIST/raw/train-labels-idx1-ubyte.gz\n",
      "Extracting data/FashionMNIST/raw/train-labels-idx1-ubyte.gz to data/FashionMNIST/raw\n"
     ]
    },
    {
     "name": "stderr",
     "output_type": "stream",
     "text": [
      "\n"
     ]
    },
    {
     "name": "stdout",
     "output_type": "stream",
     "text": [
      "\n",
      "Downloading http://fashion-mnist.s3-website.eu-central-1.amazonaws.com/t10k-images-idx3-ubyte.gz\n",
      "Downloading http://fashion-mnist.s3-website.eu-central-1.amazonaws.com/t10k-images-idx3-ubyte.gz to data/FashionMNIST/raw/t10k-images-idx3-ubyte.gz\n"
     ]
    },
    {
     "name": "stderr",
     "output_type": "stream",
     "text": [
      "100.0%\n",
      "100.0%"
     ]
    },
    {
     "name": "stdout",
     "output_type": "stream",
     "text": [
      "Extracting data/FashionMNIST/raw/t10k-images-idx3-ubyte.gz to data/FashionMNIST/raw\n",
      "\n",
      "Downloading http://fashion-mnist.s3-website.eu-central-1.amazonaws.com/t10k-labels-idx1-ubyte.gz\n",
      "Downloading http://fashion-mnist.s3-website.eu-central-1.amazonaws.com/t10k-labels-idx1-ubyte.gz to data/FashionMNIST/raw/t10k-labels-idx1-ubyte.gz\n",
      "Extracting data/FashionMNIST/raw/t10k-labels-idx1-ubyte.gz to data/FashionMNIST/raw\n",
      "\n"
     ]
    },
    {
     "name": "stderr",
     "output_type": "stream",
     "text": [
      "\n"
     ]
    }
   ],
   "source": [
    "training_data = datasets.FashionMNIST(\n",
    "    root=\"data\",\n",
    "    train=True,\n",
    "    download=True,\n",
    "    transform=ToTensor()\n",
    ")\n",
    "\n",
    "test_data = datasets.FashionMNIST(\n",
    "    root=\"data\",\n",
    "    train=False,\n",
    "    download=True,\n",
    "    transform=ToTensor()\n",
    ")\n",
    "\n",
    "train_dataloader = DataLoader(training_data, batch_size=64, shuffle=True)\n",
    "test_dataloader = DataLoader(test_data, batch_size=64, shuffle=True)\n",
    "\n",
    "#[transforms.ToTensor(),\n",
    "#     transforms.Normalize((0.5,), (0.5,))]"
   ]
  },
  {
   "cell_type": "code",
   "execution_count": 13,
   "id": "279c8ac9",
   "metadata": {
    "slideshow": {
     "slide_type": "slide"
    }
   },
   "outputs": [],
   "source": [
    "from torch import nn\n",
    "\n",
    "class FashionMNISTClassifier(nn.Module):\n",
    "    def __init__(self):\n",
    "        super(FashionMNISTClassifier, self).__init__()\n",
    "        \n",
    "        self.conv1 = nn.Conv2d(1, 32, kernel_size=(5, 5))\n",
    "        self.conv2 = nn.Conv2d(32, 32, kernel_size=(5, 5))\n",
    "        \n",
    "        self.pooling = nn.MaxPool2d(kernel_size=2, stride=2)\n",
    "        self.flatten = nn.Flatten()\n",
    "        \n",
    "        self.dropout = nn.Dropout2d(0.2)\n",
    "        \n",
    "        self.linear1 = nn.Linear(in_features=32 * 4 * 4, out_features=128)\n",
    "        self.linear2 = nn.Linear(in_features=128, out_features=64)\n",
    "        self.linear3 = nn.Linear(in_features=64, out_features=10)\n",
    "\n",
    "    def forward(self, x):\n",
    "        x = torch.relu(self.conv1(x))\n",
    "        x = self.pooling(x)\n",
    "        x = torch.relu(self.conv2(x))\n",
    "        x = self.pooling(x)\n",
    "        \n",
    "        x = self.flatten(x)    \n",
    "        \n",
    "        x = torch.relu(self.linear1(x))\n",
    "        x = self.dropout(x)\n",
    "        x = torch.relu(self.linear2(x))\n",
    "        y = self.linear3(x)\n",
    "        return y"
   ]
  },
  {
   "cell_type": "code",
   "execution_count": 14,
   "id": "7fd5d659",
   "metadata": {
    "slideshow": {
     "slide_type": "slide"
    }
   },
   "outputs": [
    {
     "name": "stdout",
     "output_type": "stream",
     "text": [
      "FashionMNISTClassifier(\n",
      "  (conv1): Conv2d(1, 32, kernel_size=(5, 5), stride=(1, 1))\n",
      "  (conv2): Conv2d(32, 32, kernel_size=(5, 5), stride=(1, 1))\n",
      "  (pooling): MaxPool2d(kernel_size=2, stride=2, padding=0, dilation=1, ceil_mode=False)\n",
      "  (flatten): Flatten(start_dim=1, end_dim=-1)\n",
      "  (dropout): Dropout2d(p=0.2, inplace=False)\n",
      "  (linear1): Linear(in_features=512, out_features=128, bias=True)\n",
      "  (linear2): Linear(in_features=128, out_features=64, bias=True)\n",
      "  (linear3): Linear(in_features=64, out_features=10, bias=True)\n",
      ")\n"
     ]
    }
   ],
   "source": [
    "model = FashionMNISTClassifier()\n",
    "print(model)"
   ]
  },
  {
   "cell_type": "markdown",
   "id": "1e140cf0",
   "metadata": {
    "slideshow": {
     "slide_type": "slide"
    }
   },
   "source": [
    "A second way to create networks is to build a sequence of modules using an instance of the ``Sequential`` class.  \n",
    "This class will simply create a single branch graph that will call chronologically all the elements contained in the sequence"
   ]
  },
  {
   "cell_type": "code",
   "execution_count": 15,
   "id": "a8c30378",
   "metadata": {
    "slideshow": {
     "slide_type": "-"
    }
   },
   "outputs": [
    {
     "name": "stdout",
     "output_type": "stream",
     "text": [
      "Sequential(\n",
      "  (0): Conv2d(1, 32, kernel_size=(5, 5), stride=(1, 1))\n",
      "  (1): ReLU()\n",
      "  (2): MaxPool2d(kernel_size=2, stride=2, padding=0, dilation=1, ceil_mode=False)\n",
      "  (3): Conv2d(32, 32, kernel_size=(5, 5), stride=(1, 1))\n",
      "  (4): ReLU()\n",
      "  (5): MaxPool2d(kernel_size=2, stride=2, padding=0, dilation=1, ceil_mode=False)\n",
      "  (6): Flatten(start_dim=1, end_dim=-1)\n",
      "  (7): Dropout2d(p=0.2, inplace=False)\n",
      "  (8): Linear(in_features=512, out_features=128, bias=True)\n",
      "  (9): ReLU()\n",
      "  (10): Linear(in_features=128, out_features=64, bias=True)\n",
      "  (11): ReLU()\n",
      "  (12): Linear(in_features=64, out_features=10, bias=True)\n",
      ")\n"
     ]
    }
   ],
   "source": [
    "model = nn.Sequential(\n",
    "            nn.Conv2d(1, 32, kernel_size=(5, 5)),\n",
    "            nn.ReLU(),\n",
    "            nn.MaxPool2d(kernel_size=2, stride=2),\n",
    "            nn.Conv2d(32, 32, kernel_size=(5, 5), stride=(1, 1)),\n",
    "            nn.ReLU(),\n",
    "            nn.MaxPool2d(kernel_size=2, stride=2),\n",
    "            nn.Flatten(),\n",
    "            nn.Dropout2d(0.2),\n",
    "            nn.Linear(in_features=32 * 4 * 4, out_features=128),\n",
    "            nn.ReLU(),\n",
    "            nn.Linear(in_features=128, out_features=64),\n",
    "            nn.ReLU(),\n",
    "            nn.Linear(in_features=64, out_features=10))\n",
    "print(model)"
   ]
  },
  {
   "cell_type": "markdown",
   "id": "b877d807",
   "metadata": {
    "slideshow": {
     "slide_type": "slide"
    }
   },
   "source": [
    "You can easily mix the two ways for better readability:"
   ]
  },
  {
   "cell_type": "code",
   "execution_count": 16,
   "id": "ef23ebbf",
   "metadata": {
    "slideshow": {
     "slide_type": "-"
    }
   },
   "outputs": [
    {
     "name": "stdout",
     "output_type": "stream",
     "text": [
      "FashionMNISTClassifier(\n",
      "  (features): Sequential(\n",
      "    (0): Conv2d(1, 32, kernel_size=(5, 5), stride=(1, 1))\n",
      "    (1): ReLU()\n",
      "    (2): MaxPool2d(kernel_size=2, stride=2, padding=0, dilation=1, ceil_mode=False)\n",
      "    (3): Conv2d(32, 32, kernel_size=(5, 5), stride=(1, 1))\n",
      "    (4): ReLU()\n",
      "    (5): MaxPool2d(kernel_size=2, stride=2, padding=0, dilation=1, ceil_mode=False)\n",
      "  )\n",
      "  (flatten): Flatten(start_dim=1, end_dim=-1)\n",
      "  (classifier): Sequential(\n",
      "    (0): Dropout2d(p=0.2, inplace=False)\n",
      "    (1): Linear(in_features=512, out_features=128, bias=True)\n",
      "    (2): ReLU()\n",
      "    (3): Linear(in_features=128, out_features=64, bias=True)\n",
      "    (4): ReLU()\n",
      "    (5): Linear(in_features=64, out_features=10, bias=True)\n",
      "  )\n",
      ")\n"
     ]
    }
   ],
   "source": [
    "class FashionMNISTClassifier(nn.Module):\n",
    "    def __init__(self):\n",
    "        super(FashionMNISTClassifier, self).__init__()\n",
    "        \n",
    "        self.features = nn.Sequential(\n",
    "                            nn.Conv2d(1, 32, kernel_size=(5, 5)),\n",
    "                            nn.ReLU(),\n",
    "                            nn.MaxPool2d(kernel_size=2, stride=2),\n",
    "                            nn.Conv2d(32, 32, kernel_size=(5, 5), stride=(1, 1)),\n",
    "                            nn.ReLU(),\n",
    "                            nn.MaxPool2d(kernel_size=2, stride=2))\n",
    "        \n",
    "        self.flatten = nn.Flatten()\n",
    "        \n",
    "        self.classifier = nn.Sequential(\n",
    "                            nn.Dropout2d(0.2),\n",
    "                            nn.Linear(in_features=32 * 4 * 4, out_features=128),\n",
    "                            nn.ReLU(),\n",
    "                            nn.Linear(in_features=128, out_features=64),\n",
    "                            nn.ReLU(),\n",
    "                            nn.Linear(in_features=64, out_features=10))\n",
    "\n",
    "    def forward(self, x):\n",
    "        x = self.features(x)\n",
    "        x = self.flatten(x)\n",
    "        y = self.classifier(x)\n",
    "        return y\n",
    "    \n",
    "model = FashionMNISTClassifier()\n",
    "print(model)"
   ]
  },
  {
   "cell_type": "markdown",
   "id": "2c85d00c",
   "metadata": {
    "slideshow": {
     "slide_type": "slide"
    }
   },
   "source": [
    "Pytorch allows to train neural networks using the acceleration provided by GPUs.  \n",
    "To train a model on the GPU it must be stored on the GPU RAM."
   ]
  },
  {
   "cell_type": "code",
   "execution_count": 17,
   "id": "f6884690",
   "metadata": {
    "slideshow": {
     "slide_type": "-"
    }
   },
   "outputs": [],
   "source": [
    "device = torch.device(\"cuda:0\" if torch.cuda.is_available() else \"cpu\")\n",
    "model = model.to(device)"
   ]
  },
  {
   "cell_type": "markdown",
   "id": "a1a41e4b",
   "metadata": {
    "slideshow": {
     "slide_type": "slide"
    }
   },
   "source": [
    "## Training Loop"
   ]
  },
  {
   "cell_type": "markdown",
   "id": "bdc0d782",
   "metadata": {
    "slideshow": {
     "slide_type": "-"
    }
   },
   "source": [
    "The network learning procedure is not included in Pytorch.  \n",
    "Even if this may seem annoying at first, it allows to keep complete control over the whole procedure"
   ]
  },
  {
   "cell_type": "code",
   "execution_count": 18,
   "id": "a3f75143",
   "metadata": {
    "slideshow": {
     "slide_type": "slide"
    }
   },
   "outputs": [],
   "source": [
    "from tqdm.notebook import tqdm\n",
    "from statistics import mean\n",
    "\n",
    "def train(net, optimizer, loader, epochs=10):\n",
    "    criterion = nn.CrossEntropyLoss()\n",
    "    for epoch in tqdm(range(epochs), desc='Epoch', leave=False):\n",
    "        running_loss = []\n",
    "        t = tqdm(loader, desc='batch', leave=False)\n",
    "        for x, y in t:\n",
    "            x, y = x.to(device), y.to(device)\n",
    "            outputs = net(x)\n",
    "            loss = criterion(outputs, y)\n",
    "            running_loss.append(loss.item())\n",
    "            optimizer.zero_grad()\n",
    "            loss.backward()\n",
    "            optimizer.step()\n",
    "            t.set_description(f'Training loss: {mean(running_loss)}')"
   ]
  },
  {
   "cell_type": "code",
   "execution_count": 21,
   "id": "ad19ea91",
   "metadata": {
    "slideshow": {
     "slide_type": "slide"
    }
   },
   "outputs": [
    {
     "data": {
      "application/vnd.jupyter.widget-view+json": {
       "model_id": "",
       "version_major": 2,
       "version_minor": 0
      },
      "text/plain": [
       "Epoch:   0%|          | 0/10 [00:00<?, ?it/s]"
      ]
     },
     "metadata": {},
     "output_type": "display_data"
    },
    {
     "data": {
      "application/vnd.jupyter.widget-view+json": {
       "model_id": "",
       "version_major": 2,
       "version_minor": 0
      },
      "text/plain": [
       "batch:   0%|          | 0/938 [00:00<?, ?it/s]"
      ]
     },
     "metadata": {},
     "output_type": "display_data"
    },
    {
     "name": "stderr",
     "output_type": "stream",
     "text": [
      "/home/david.bertoin/.conda/envs/torch/lib/python3.8/site-packages/torch/nn/functional.py:718: UserWarning: Named tensors and all their associated APIs are an experimental feature and subject to change. Please do not use them for anything important until they are released as stable. (Triggered internally at  /opt/conda/conda-bld/pytorch_1623448278899/work/c10/core/TensorImpl.h:1156.)\n",
      "  return torch.max_pool2d(input, kernel_size, stride, padding, dilation, ceil_mode)\n"
     ]
    },
    {
     "data": {
      "application/vnd.jupyter.widget-view+json": {
       "model_id": "",
       "version_major": 2,
       "version_minor": 0
      },
      "text/plain": [
       "batch:   0%|          | 0/938 [00:00<?, ?it/s]"
      ]
     },
     "metadata": {},
     "output_type": "display_data"
    },
    {
     "data": {
      "application/vnd.jupyter.widget-view+json": {
       "model_id": "",
       "version_major": 2,
       "version_minor": 0
      },
      "text/plain": [
       "batch:   0%|          | 0/938 [00:00<?, ?it/s]"
      ]
     },
     "metadata": {},
     "output_type": "display_data"
    },
    {
     "data": {
      "application/vnd.jupyter.widget-view+json": {
       "model_id": "",
       "version_major": 2,
       "version_minor": 0
      },
      "text/plain": [
       "batch:   0%|          | 0/938 [00:00<?, ?it/s]"
      ]
     },
     "metadata": {},
     "output_type": "display_data"
    },
    {
     "data": {
      "application/vnd.jupyter.widget-view+json": {
       "model_id": "",
       "version_major": 2,
       "version_minor": 0
      },
      "text/plain": [
       "batch:   0%|          | 0/938 [00:00<?, ?it/s]"
      ]
     },
     "metadata": {},
     "output_type": "display_data"
    },
    {
     "data": {
      "application/vnd.jupyter.widget-view+json": {
       "model_id": "",
       "version_major": 2,
       "version_minor": 0
      },
      "text/plain": [
       "batch:   0%|          | 0/938 [00:00<?, ?it/s]"
      ]
     },
     "metadata": {},
     "output_type": "display_data"
    },
    {
     "data": {
      "application/vnd.jupyter.widget-view+json": {
       "model_id": "",
       "version_major": 2,
       "version_minor": 0
      },
      "text/plain": [
       "batch:   0%|          | 0/938 [00:00<?, ?it/s]"
      ]
     },
     "metadata": {},
     "output_type": "display_data"
    },
    {
     "data": {
      "application/vnd.jupyter.widget-view+json": {
       "model_id": "",
       "version_major": 2,
       "version_minor": 0
      },
      "text/plain": [
       "batch:   0%|          | 0/938 [00:00<?, ?it/s]"
      ]
     },
     "metadata": {},
     "output_type": "display_data"
    },
    {
     "data": {
      "application/vnd.jupyter.widget-view+json": {
       "model_id": "",
       "version_major": 2,
       "version_minor": 0
      },
      "text/plain": [
       "batch:   0%|          | 0/938 [00:00<?, ?it/s]"
      ]
     },
     "metadata": {},
     "output_type": "display_data"
    },
    {
     "data": {
      "application/vnd.jupyter.widget-view+json": {
       "model_id": "",
       "version_major": 2,
       "version_minor": 0
      },
      "text/plain": [
       "batch:   0%|          | 0/938 [00:00<?, ?it/s]"
      ]
     },
     "metadata": {},
     "output_type": "display_data"
    }
   ],
   "source": [
    "import torch.optim as optim\n",
    "\n",
    "lr = 1e-3\n",
    "optimizer = optim.SGD(model.parameters(), lr=lr, momentum=0.9)\n",
    "train(model, optimizer, train_dataloader, 10)"
   ]
  },
  {
   "cell_type": "markdown",
   "id": "9466d4d2",
   "metadata": {
    "slideshow": {
     "slide_type": "slide"
    }
   },
   "source": [
    "When we want to test our network, it is no longer necessary to store the information allowing us to clamp the gradients.  \n",
    "In order to speed up the inference, Pytorch offers an option to not compute the gradients."
   ]
  },
  {
   "cell_type": "code",
   "execution_count": 22,
   "id": "649ba467",
   "metadata": {
    "slideshow": {
     "slide_type": "-"
    }
   },
   "outputs": [],
   "source": [
    "def test(model, dataloader):\n",
    "    test_corrects = 0\n",
    "    total = 0\n",
    "    with torch.no_grad():\n",
    "        for x, y in dataloader:\n",
    "            x = x.to(device)\n",
    "            y = y.to(device)\n",
    "            y_hat = model(x).argmax(1)\n",
    "            test_corrects += y_hat.eq(y).sum().item()\n",
    "            total += y.size(0)\n",
    "    return test_corrects / total"
   ]
  },
  {
   "cell_type": "markdown",
   "id": "5d4a11e3",
   "metadata": {
    "slideshow": {
     "slide_type": "slide"
    }
   },
   "source": [
    "Also, when using Dropout or Batch-normalization layers, it is important to specify to the model that you want to use it in evaluation mode because these layers have a different behavior during learning and testing"
   ]
  },
  {
   "cell_type": "code",
   "execution_count": 23,
   "id": "82cf467b",
   "metadata": {
    "slideshow": {
     "slide_type": "-"
    }
   },
   "outputs": [
    {
     "name": "stdout",
     "output_type": "stream",
     "text": [
      "Test accuracy: 0.85 %\n"
     ]
    }
   ],
   "source": [
    "model.eval()\n",
    "test_acc = test(model, test_dataloader)\n",
    "print(f'Test accuracy: {test_acc:.2f} %')"
   ]
  },
  {
   "cell_type": "markdown",
   "id": "10dec3e5",
   "metadata": {
    "slideshow": {
     "slide_type": "slide"
    }
   },
   "source": [
    "## Saving and loading model weights\n",
    "\n",
    "PyTorch models store the learned parameters in an internal state dictionary, called state_dict. These can be persisted via the ``torch.save`` method:"
   ]
  },
  {
   "cell_type": "code",
   "execution_count": 24,
   "id": "1178ca7f",
   "metadata": {
    "slideshow": {
     "slide_type": "-"
    }
   },
   "outputs": [],
   "source": [
    "torch.save(model.state_dict(), 'model_weights.pth')"
   ]
  },
  {
   "cell_type": "markdown",
   "id": "3fa0163e",
   "metadata": {
    "slideshow": {
     "slide_type": "slide"
    }
   },
   "source": [
    "To load model weights, you need to create an instance of the same model first, and then load the parameters using the load_state_dict() method."
   ]
  },
  {
   "cell_type": "code",
   "execution_count": 25,
   "id": "dbdd57f0",
   "metadata": {
    "slideshow": {
     "slide_type": "-"
    }
   },
   "outputs": [
    {
     "name": "stdout",
     "output_type": "stream",
     "text": [
      "Test accuracy: 0.85 %\n"
     ]
    }
   ],
   "source": [
    "model.load_state_dict(torch.load('model_weights.pth'))\n",
    "\n",
    "model.eval()\n",
    "test_acc = test(model, test_dataloader)\n",
    "print(f'Test accuracy: {test_acc:.2f} %')"
   ]
  }
 ],
 "metadata": {
  "celltoolbar": "Diaporama",
  "kernelspec": {
   "display_name": "Python 3 (ipykernel)",
   "language": "python",
   "name": "python3"
  },
  "language_info": {
   "codemirror_mode": {
    "name": "ipython",
    "version": 3
   },
   "file_extension": ".py",
   "mimetype": "text/x-python",
   "name": "python",
   "nbconvert_exporter": "python",
   "pygments_lexer": "ipython3",
   "version": "3.8.20"
  }
 },
 "nbformat": 4,
 "nbformat_minor": 5
}
